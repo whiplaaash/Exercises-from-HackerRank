{
 "cells": [
  {
   "cell_type": "markdown",
   "id": "81ac8eba-0fc4-4daf-843e-187423e902d0",
   "metadata": {},
   "source": [
    "# Exercises 21-30:"
   ]
  },
  {
   "cell_type": "markdown",
   "id": "4768c21d-41cc-41b5-8559-78e507f26afc",
   "metadata": {},
   "source": [
    "# Exercise 21: \n",
    "\n",
    "Construct a class to find the biggest absolute value among all differences of elements of the list $a$.  \n",
    "\n",
    "To do it, define a class that takes an array $a$ and stores it in private variable ('__elements'). Then, define a method 'calculateDifference()' to calculate the difference and store it in a public variable 'maximumDifference'."
   ]
  },
  {
   "cell_type": "code",
   "execution_count": 1,
   "id": "c5a44edd-e599-41aa-98c3-0f99d6c9e0c7",
   "metadata": {},
   "outputs": [],
   "source": [
    "class Difference:\n",
    "    def __init__(self, a):\n",
    "        self.__elements = a\n",
    "        self.maximumDifference = None\n",
    "      \n",
    "    def computeDifference(self):\n",
    "        arr = []\n",
    "        for i in range(len(self.__elements)):\n",
    "            for j in range(i+1,len(self.__elements)):\n",
    "                diff = abs(self.__elements[i] - self.__elements[j])\n",
    "                arr.append(diff)\n",
    "        arr.sort(reverse=True)\n",
    "        self.maximumDifference = arr[0]\n",
    "        return self.maximumDifference"
   ]
  },
  {
   "cell_type": "code",
   "execution_count": 3,
   "id": "4e25512f-c1f7-485b-a3dc-3fe8b63a47a4",
   "metadata": {},
   "outputs": [
    {
     "name": "stdout",
     "output_type": "stream",
     "text": [
      "7\n"
     ]
    }
   ],
   "source": [
    "a = [2,3,1,8]\n",
    "\n",
    "d = Difference(a)\n",
    "d.computeDifference()\n",
    "\n",
    "print(d.maximumDifference)"
   ]
  },
  {
   "cell_type": "markdown",
   "id": "bf344069-b075-45f1-b401-b2eea00ec35d",
   "metadata": {},
   "source": [
    "# Exercise 22: \n",
    "\n",
    "Nested lists with sorting:\n",
    "\n",
    "Having given an input data: name and grade, create nested lists of the form [[name, grade], ...] and then extract names of students with the second worst grades."
   ]
  },
  {
   "cell_type": "code",
   "execution_count": 11,
   "id": "11cfee1b-8871-4943-b45b-ace20b4e7c50",
   "metadata": {},
   "outputs": [
    {
     "name": "stdout",
     "output_type": "stream",
     "text": [
      "Alan\n",
      "Paul\n"
     ]
    }
   ],
   "source": [
    "k =[[\"Ben\", 5.4], [\"Paul\", 3.4], [\"Alan\", 3.4], [\"Igor\", 2.5], [\"Dan\", 4.1]]\n",
    "\n",
    "k.sort(key = lambda x: x[1])\n",
    "\n",
    "new_list = [item for item in k if item[1] != k[0][1]]\n",
    "\n",
    "new_list_2 = [item for item in new_list if item[1] == new_list[0][1]]\n",
    "\n",
    "new_list_2.sort()\n",
    "\n",
    "for item in new_list_2:\n",
    "    print(item[0])"
   ]
  },
  {
   "cell_type": "markdown",
   "id": "b2d9080a-29a1-4808-86c0-4600acf81f23",
   "metadata": {},
   "source": [
    "# Exercise 23:\n",
    "\n",
    "Having a dictionary with grades of people, find a dictionary with the averages and print the value for a given person."
   ]
  },
  {
   "cell_type": "code",
   "execution_count": 13,
   "id": "6bf1c8d0-37cd-44c4-ae4c-62fb715f4021",
   "metadata": {},
   "outputs": [],
   "source": [
    "student_marks = {\"Ana\": [20, 30, 25], \"Bob\": [30, 40, 45]}\n",
    "query_name = \"Ana\""
   ]
  },
  {
   "cell_type": "code",
   "execution_count": 15,
   "id": "123bf67f-248d-4ef6-9438-82554163cba8",
   "metadata": {},
   "outputs": [
    {
     "name": "stdout",
     "output_type": "stream",
     "text": [
      "25.00\n"
     ]
    },
    {
     "data": {
      "text/plain": [
       "{'Ana': '25.00', 'Bob': '38.33'}"
      ]
     },
     "execution_count": 15,
     "metadata": {},
     "output_type": "execute_result"
    }
   ],
   "source": [
    "dict = {}\n",
    "for key, value in student_marks.items():\n",
    "    avg = 0\n",
    "    d = len(value)\n",
    "    for i in value:\n",
    "        avg = avg + i\n",
    "    avg = avg/d\n",
    "    avg = \"{:.2f}\".format(avg)\n",
    "    dict[key] = avg\n",
    "        \n",
    "print(dict[query_name])\n",
    "dict"
   ]
  },
  {
   "cell_type": "markdown",
   "id": "4bfa8a55-ccac-4952-ae64-86366d02541d",
   "metadata": {},
   "source": [
    "# Exercise 24: \n",
    "\n",
    "Linked list:\n",
    "\n",
    "We have the class Node(), and the class Solution() with two methods. This code inserts and displays a linked list (with data taken from the input)."
   ]
  },
  {
   "cell_type": "code",
   "execution_count": 18,
   "id": "db736618-a337-425b-9779-1bd779cfc633",
   "metadata": {},
   "outputs": [],
   "source": [
    "class Node:\n",
    "    \n",
    "    def __init__(self, data):\n",
    "        self.data = data\n",
    "        self.next = None \n",
    "        \n",
    "class Solution: \n",
    "    \n",
    "    def display(self, head):\n",
    "        \n",
    "        current = head\n",
    "        \n",
    "        while current:\n",
    "            print(current.data, end = '')\n",
    "            current = current.next\n",
    "            \n",
    "    \n",
    "    def insert(self, head, data): \n",
    "        \n",
    "        new_node = Node(data)\n",
    "        \n",
    "        if head is None:\n",
    "            return new_node\n",
    "        else:\n",
    "            current = head\n",
    "        \n",
    "            while current.next is not None:\n",
    "                current = current.next\n",
    "            \n",
    "            current.next = new_node\n",
    "            return head\n",
    "        "
   ]
  },
  {
   "cell_type": "code",
   "execution_count": 20,
   "id": "bc9ea0e4-c1c2-4d18-a2c8-c59f6f6cebac",
   "metadata": {},
   "outputs": [
    {
     "name": "stdin",
     "output_type": "stream",
     "text": [
      " 2\n",
      " 3\n",
      " 4\n"
     ]
    },
    {
     "name": "stdout",
     "output_type": "stream",
     "text": [
      "34"
     ]
    }
   ],
   "source": [
    "mylist = Solution()\n",
    "T = int(input())\n",
    "head = None\n",
    "for i in range(T):\n",
    "    data = int(input())\n",
    "    head=mylist.insert(head, data) \n",
    "    \n",
    "mylist.display(head)"
   ]
  },
  {
   "cell_type": "code",
   "execution_count": 22,
   "id": "2008ff26-d42b-4a99-a04e-b7fbd4894f88",
   "metadata": {},
   "outputs": [
    {
     "name": "stdout",
     "output_type": "stream",
     "text": [
      "kr"
     ]
    }
   ],
   "source": [
    "slist = Solution()\n",
    "head = None\n",
    "head = slist.insert(head, \"k\")\n",
    "head = slist.insert(head, \"r\")\n",
    "\n",
    "slist.display(head)"
   ]
  },
  {
   "cell_type": "markdown",
   "id": "f8fcaa62-de50-41d2-9d0f-53419551a8d1",
   "metadata": {},
   "source": [
    "# Example: \n",
    "\n",
    "A class to generate linked list and do some operations on its elements."
   ]
  },
  {
   "cell_type": "code",
   "execution_count": 25,
   "id": "1e78ca14-3d46-4d95-a880-06b94de2dedd",
   "metadata": {},
   "outputs": [
    {
     "name": "stdout",
     "output_type": "stream",
     "text": [
      "Node Data:\n",
      "c\n",
      "a\n",
      "g\n",
      "b\n",
      "d\n",
      "\n",
      "Remove First Node:\n",
      "a\n",
      "g\n",
      "b\n",
      "d\n",
      "\n",
      "Remove Last Node:\n",
      "a\n",
      "g\n",
      "b\n",
      "\n",
      "Remove Node at Index 1:\n",
      "a\n",
      "b\n",
      "\n",
      "Linked list after removing a node:\n",
      "a\n",
      "b\n",
      "\n",
      "Update node Value at Index 0:\n",
      "z\n",
      "b\n",
      "\n",
      "Size of linked list: 2\n"
     ]
    }
   ],
   "source": [
    "# Create a Node class to create a node\n",
    "class Node:\n",
    "    def __init__(self, data):\n",
    "        self.data = data\n",
    "        self.next = None\n",
    "\n",
    "# Create a LinkedList class\n",
    "class LinkedList:\n",
    "    \n",
    "    def __init__(self):\n",
    "        self.head = None\n",
    "\n",
    "    # Method to add a node at the beginning of the LL\n",
    "    def insertAtBegin(self, data):\n",
    "        new_node = Node(data)\n",
    "        new_node.next = self.head\n",
    "        self.head = new_node\n",
    "\n",
    "    # Method to add a node at any index\n",
    "    # Indexing starts from 0.\n",
    "    def insertAtIndex(self, data, index):\n",
    "        if index == 0:\n",
    "            self.insertAtBegin(data)\n",
    "            return\n",
    "\n",
    "        position = 0\n",
    "        current_node = self.head\n",
    "        while current_node is not None and position + 1 != index:\n",
    "            position += 1\n",
    "            current_node = current_node.next\n",
    "\n",
    "        if current_node is not None:\n",
    "            new_node = Node(data)\n",
    "            new_node.next = current_node.next\n",
    "            current_node.next = new_node\n",
    "        else:\n",
    "            print(\"Index not present\")\n",
    "\n",
    "    # Method to add a node at the end of LL\n",
    "    def insertAtEnd(self, data):\n",
    "        \n",
    "        new_node = Node(data)\n",
    "        \n",
    "        if self.head is None:\n",
    "            self.head = new_node\n",
    "            return\n",
    "\n",
    "        current_node = self.head\n",
    "        \n",
    "        while current_node.next:\n",
    "            current_node = current_node.next\n",
    "\n",
    "        current_node.next = new_node\n",
    "\n",
    "    # Update node at a given position\n",
    "    def updateNode(self, val, index):\n",
    "        current_node = self.head\n",
    "        position = 0\n",
    "        while current_node is not None and position != index:\n",
    "            position += 1\n",
    "            current_node = current_node.next\n",
    "\n",
    "        if current_node is not None:\n",
    "            current_node.data = val\n",
    "        else:\n",
    "            print(\"Index not present\")\n",
    "\n",
    "    # Method to remove first node of linked list\n",
    "    def remove_first_node(self):\n",
    "        if self.head is None:\n",
    "            return\n",
    "\n",
    "        self.head = self.head.next\n",
    "\n",
    "    # Method to remove last node of linked list\n",
    "    def remove_last_node(self):\n",
    "        if self.head is None:\n",
    "            return\n",
    "\n",
    "        # If there's only one node\n",
    "        if self.head.next is None:\n",
    "            self.head = None\n",
    "            return\n",
    "\n",
    "        # Traverse to the second last node\n",
    "        current_node = self.head\n",
    "        while current_node.next and current_node.next.next:\n",
    "            current_node = current_node.next\n",
    "\n",
    "        current_node.next = None\n",
    "\n",
    "    # Method to remove a node at a given index\n",
    "    def remove_at_index(self, index):\n",
    "        if self.head is None:\n",
    "            return\n",
    "\n",
    "        if index == 0:\n",
    "            self.remove_first_node()\n",
    "            return\n",
    "\n",
    "        current_node = self.head\n",
    "        position = 0\n",
    "        while current_node is not None and current_node.next is not None and position + 1 != index:\n",
    "            position += 1\n",
    "            current_node = current_node.next\n",
    "\n",
    "        if current_node is not None and current_node.next is not None:\n",
    "            current_node.next = current_node.next.next\n",
    "        else:\n",
    "            print(\"Index not present\")\n",
    "\n",
    "    # Method to remove a node from the linked list by its data\n",
    "    def remove_node(self, data):\n",
    "        current_node = self.head\n",
    "\n",
    "        # If the node to be removed is the head node\n",
    "        if current_node is not None and current_node.data == data:\n",
    "            self.remove_first_node()\n",
    "            return\n",
    "\n",
    "        # Traverse and find the node with the matching data\n",
    "        while current_node is not None and current_node.next is not None:\n",
    "            if current_node.next.data == data:\n",
    "                current_node.next = current_node.next.next\n",
    "                return\n",
    "            current_node = current_node.next\n",
    "\n",
    "        # If the data was not found\n",
    "        print(\"Node with the given data not found\")\n",
    "\n",
    "    # Print the size of the linked list\n",
    "    def sizeOfLL(self):\n",
    "        size = 0\n",
    "        current_node = self.head\n",
    "        while current_node:\n",
    "            size += 1\n",
    "            current_node = current_node.next\n",
    "        return size\n",
    "\n",
    "    # Print the linked list\n",
    "    def printLL(self):\n",
    "        current_node = self.head\n",
    "        while current_node:\n",
    "            print(current_node.data)\n",
    "            current_node = current_node.next\n",
    "\n",
    "\n",
    "# create a new linked list\n",
    "llist = LinkedList()\n",
    "\n",
    "# add nodes to the linked list\n",
    "llist.insertAtEnd('a')\n",
    "llist.insertAtEnd('b')\n",
    "llist.insertAtBegin('c')\n",
    "llist.insertAtEnd('d')\n",
    "llist.insertAtIndex('g', 2)\n",
    "\n",
    "# print the linked list\n",
    "print(\"Node Data:\")\n",
    "llist.printLL()\n",
    "\n",
    "# remove nodes from the linked list\n",
    "print(\"\\nRemove First Node:\")\n",
    "llist.remove_first_node()\n",
    "llist.printLL()\n",
    "\n",
    "print(\"\\nRemove Last Node:\")\n",
    "llist.remove_last_node()\n",
    "llist.printLL()\n",
    "\n",
    "print(\"\\nRemove Node at Index 1:\")\n",
    "llist.remove_at_index(1)\n",
    "llist.printLL()\n",
    "\n",
    "# print the linked list after all removals\n",
    "print(\"\\nLinked list after removing a node:\")\n",
    "llist.printLL()\n",
    "\n",
    "print(\"\\nUpdate node Value at Index 0:\")\n",
    "llist.updateNode('z', 0)\n",
    "llist.printLL()\n",
    "\n",
    "print(\"\\nSize of linked list:\", llist.sizeOfLL())"
   ]
  },
  {
   "cell_type": "markdown",
   "id": "977a6f81-c126-4b7c-9f70-a46c97ead31c",
   "metadata": {},
   "source": [
    "# Exercise 25: \n",
    "\n",
    "Checkng if $S$ is integer with exception handling."
   ]
  },
  {
   "cell_type": "code",
   "execution_count": 28,
   "id": "48be2eaa-b030-4498-bb8b-29e2f7996f7b",
   "metadata": {},
   "outputs": [
    {
     "name": "stdout",
     "output_type": "stream",
     "text": [
      "4\n"
     ]
    }
   ],
   "source": [
    "S = \"4\"\n",
    "\n",
    "try:\n",
    "    x = int(S)\n",
    "    print(x)\n",
    "except ValueError:\n",
    "    print(\"Bad String\")"
   ]
  },
  {
   "cell_type": "markdown",
   "id": "f1f72d4a-665f-41eb-88f1-672352b4fc2c",
   "metadata": {},
   "source": [
    "# Exercise 26: \n",
    "\n",
    "Operations on lists:\n",
    "\n",
    "Given the list of operations that can be performed over a list, perform them one by one."
   ]
  },
  {
   "cell_type": "code",
   "execution_count": 31,
   "id": "120b4c27-583a-4587-84d8-05484b119564",
   "metadata": {},
   "outputs": [],
   "source": [
    "operacja = [\"append 1\", \"insert 1 8\", \"sort\", \"reverse\", \"print\"]"
   ]
  },
  {
   "cell_type": "code",
   "execution_count": 535,
   "id": "9b1c002f-9b54-47e6-be85-f1e20a9a7d21",
   "metadata": {},
   "outputs": [
    {
     "data": {
      "text/plain": [
       "['append', '1']"
      ]
     },
     "execution_count": 535,
     "metadata": {},
     "output_type": "execute_result"
    }
   ],
   "source": [
    "rr = operacja[0].split()\n",
    "rr"
   ]
  },
  {
   "cell_type": "code",
   "execution_count": 33,
   "id": "a406ce5c-35c8-4e9e-8e10-55848728c3bc",
   "metadata": {},
   "outputs": [
    {
     "name": "stdout",
     "output_type": "stream",
     "text": [
      "[4, 5, 1]\n",
      "[4, 8, 5, 1]\n",
      "[1, 4, 5, 8]\n",
      "[8, 5, 4, 1]\n",
      "[8, 5, 4, 1]\n"
     ]
    }
   ],
   "source": [
    "def listOperations(arr, operacja):\n",
    "    for item in operacja:\n",
    "        rr = item.split()\n",
    "        if rr[0] == \"insert\":\n",
    "            arr.insert(int(rr[1]), int(rr[2]))\n",
    "            print(arr)\n",
    "        elif rr[0] == \"append\":\n",
    "            arr.append(int(rr[1]))\n",
    "            print(arr)\n",
    "        elif rr[0] == \"remove\":\n",
    "            arr.remove(int(rr[1]))\n",
    "            print(arr)\n",
    "        elif rr[0] == \"print\":\n",
    "            print(arr)\n",
    "        elif rr[0] == \"pop\":\n",
    "            arr.pop()\n",
    "            print(arr)\n",
    "        elif rr[0] == \"sort\":\n",
    "            arr.sort()\n",
    "            print(arr)\n",
    "        else:\n",
    "            arr.reverse()\n",
    "            print(arr)\n",
    "\n",
    "dd = [4,5]\n",
    "\n",
    "listOperations(dd, operacja)"
   ]
  },
  {
   "cell_type": "markdown",
   "id": "bd9c13de-6c4e-47be-8d9e-da1e195216c6",
   "metadata": {},
   "source": [
    "# Exercise 27: \n",
    "\n",
    "Raising exceptions:\n",
    "\n",
    "Define a calculator class with the method that calculates $n$ to power $p$. Buth when any of these numbers are negative raise the exception."
   ]
  },
  {
   "cell_type": "code",
   "execution_count": 36,
   "id": "f0ab5234-4b32-4527-875f-4d2ebe6e0500",
   "metadata": {},
   "outputs": [],
   "source": [
    "class Calculator:\n",
    "    def __init__(self):\n",
    "        pass\n",
    "        \n",
    "    def power(self, n, p):\n",
    "        self.n = n\n",
    "        self.p = p\n",
    "        if self.n < 0 or self.p < 0:\n",
    "            raise ValueError(\"n and p should be non-negative\")\n",
    "        else:\n",
    "            return self.n ** self.p"
   ]
  },
  {
   "cell_type": "code",
   "execution_count": 38,
   "id": "32d83f3c-69b2-405d-a1a9-89b4fcf9cc75",
   "metadata": {},
   "outputs": [
    {
     "data": {
      "text/plain": [
       "8"
      ]
     },
     "execution_count": 38,
     "metadata": {},
     "output_type": "execute_result"
    }
   ],
   "source": [
    "calc = Calculator()\n",
    "calc.power(2,3)"
   ]
  },
  {
   "cell_type": "code",
   "execution_count": 40,
   "id": "d3e761b6-1ab8-4f87-95a5-69c3ee3515ca",
   "metadata": {},
   "outputs": [
    {
     "ename": "ValueError",
     "evalue": "n and p should be non-negative",
     "output_type": "error",
     "traceback": [
      "\u001b[0;31m---------------------------------------------------------------------------\u001b[0m",
      "\u001b[0;31mValueError\u001b[0m                                Traceback (most recent call last)",
      "Cell \u001b[0;32mIn[40], line 1\u001b[0m\n\u001b[0;32m----> 1\u001b[0m calc\u001b[38;5;241m.\u001b[39mpower(\u001b[38;5;241m-\u001b[39m\u001b[38;5;241m1\u001b[39m,\u001b[38;5;241m3\u001b[39m)\n",
      "Cell \u001b[0;32mIn[36], line 9\u001b[0m, in \u001b[0;36mCalculator.power\u001b[0;34m(self, n, p)\u001b[0m\n\u001b[1;32m      7\u001b[0m \u001b[38;5;28mself\u001b[39m\u001b[38;5;241m.\u001b[39mp \u001b[38;5;241m=\u001b[39m p\n\u001b[1;32m      8\u001b[0m \u001b[38;5;28;01mif\u001b[39;00m \u001b[38;5;28mself\u001b[39m\u001b[38;5;241m.\u001b[39mn \u001b[38;5;241m<\u001b[39m \u001b[38;5;241m0\u001b[39m \u001b[38;5;129;01mor\u001b[39;00m \u001b[38;5;28mself\u001b[39m\u001b[38;5;241m.\u001b[39mp \u001b[38;5;241m<\u001b[39m \u001b[38;5;241m0\u001b[39m:\n\u001b[0;32m----> 9\u001b[0m     \u001b[38;5;28;01mraise\u001b[39;00m \u001b[38;5;167;01mValueError\u001b[39;00m(\u001b[38;5;124m\"\u001b[39m\u001b[38;5;124mn and p should be non-negative\u001b[39m\u001b[38;5;124m\"\u001b[39m)\n\u001b[1;32m     10\u001b[0m \u001b[38;5;28;01melse\u001b[39;00m:\n\u001b[1;32m     11\u001b[0m     \u001b[38;5;28;01mreturn\u001b[39;00m \u001b[38;5;28mself\u001b[39m\u001b[38;5;241m.\u001b[39mn \u001b[38;5;241m*\u001b[39m\u001b[38;5;241m*\u001b[39m \u001b[38;5;28mself\u001b[39m\u001b[38;5;241m.\u001b[39mp\n",
      "\u001b[0;31mValueError\u001b[0m: n and p should be non-negative"
     ]
    }
   ],
   "source": [
    "calc.power(-1,3)"
   ]
  },
  {
   "cell_type": "markdown",
   "id": "42ebd490-56db-4598-b580-d03b00fb298b",
   "metadata": {},
   "source": [
    "# Exercise 28: \n",
    "\n",
    "Bubble sort algorithm:\n",
    "\n",
    "Having given an array $a$, sort its element in descending order."
   ]
  },
  {
   "cell_type": "code",
   "execution_count": 43,
   "id": "ba131a36-d7bc-46ad-a469-46d11e28bbea",
   "metadata": {},
   "outputs": [],
   "source": [
    "a = [9, 12, 15, 3, 2]"
   ]
  },
  {
   "cell_type": "code",
   "execution_count": 45,
   "id": "7cf51955-e29a-4594-bc92-997522852ee4",
   "metadata": {},
   "outputs": [
    {
     "name": "stdout",
     "output_type": "stream",
     "text": [
      "Array is sorted in 7 swaps.\n",
      "First Element: 2\n",
      "Last Element: 15\n"
     ]
    }
   ],
   "source": [
    "numSwaps = 0\n",
    "for i in range(len(a)):\n",
    "        \n",
    "    numberOfSwaps = 0\n",
    "    \n",
    "    for j in range(len(a) - 1):\n",
    "        if a[j] > a[j + 1]:\n",
    "            a[j], a[j + 1] = a[j+1], a[j]\n",
    "            numberOfSwaps += 1\n",
    "            numSwaps += 1 \n",
    "        else:\n",
    "            pass\n",
    "                \n",
    "print(\"Array is sorted in {} swaps.\".format(numSwaps))\n",
    "print(\"First Element:\", a[0])\n",
    "print(\"Last Element:\", a[len(a)-1])"
   ]
  },
  {
   "cell_type": "markdown",
   "id": "cd77379d-49e1-4cf3-b4e6-2c861be5db80",
   "metadata": {},
   "source": [
    "# Exercise 29: \n",
    "\n",
    "Generics (with the module 'typing'):\n",
    "\n",
    "Write a single generic function named 'printArray'; this function must take an array of generic elements as a parameter.\n",
    "\n",
    "(To use Generic parameters we apply the module 'typing'. Generic parameters are used to define what type of variables the function must take and then return. If the function returns something that is not of a requested type, then an error appears.)"
   ]
  },
  {
   "cell_type": "code",
   "execution_count": 641,
   "id": "f25ce9a1-c501-4815-bc62-bc72a501afd7",
   "metadata": {},
   "outputs": [],
   "source": [
    "arr = [1, 2, 3, \"Hello\", \"World\"]\n",
    "b = [1, 2, 3]\n",
    "c = [\"d\", \"f\"]"
   ]
  },
  {
   "cell_type": "code",
   "execution_count": 653,
   "id": "f9c007ba-fdc5-4a1d-aa90-7107c67b8b87",
   "metadata": {},
   "outputs": [
    {
     "name": "stdout",
     "output_type": "stream",
     "text": [
      "1\n",
      "2\n",
      "3\n",
      "Hello\n",
      "World\n"
     ]
    }
   ],
   "source": [
    "from typing import TypeVar, List\n",
    "\n",
    "T = TypeVar(\"T\")\n",
    "\n",
    "def printArray(a: List[T]) -> T:\n",
    "    for i in range(len(a)):\n",
    "        print(a[i])\n",
    "\n",
    "# Usage\n",
    "printArray(arr)"
   ]
  },
  {
   "cell_type": "code",
   "execution_count": 665,
   "id": "c5bb134e-0352-49f2-8aa0-8ce6a288e1c2",
   "metadata": {},
   "outputs": [
    {
     "data": {
      "text/plain": [
       "['w']"
      ]
     },
     "execution_count": 665,
     "metadata": {},
     "output_type": "execute_result"
    }
   ],
   "source": [
    "from typing import Dict, List\n",
    "\n",
    "test: Dict[str, int] = {\"a\": 1}\n",
    "test\n",
    "cont: List[str] = [\"w\"]\n",
    "cont"
   ]
  },
  {
   "cell_type": "markdown",
   "id": "c2a39405-6bfe-407a-97ad-96ae5698daa3",
   "metadata": {},
   "source": [
    "# Exercise 30: \n",
    "\n",
    "Print a given pattern."
   ]
  },
  {
   "cell_type": "code",
   "execution_count": 80,
   "id": "1071835d-7fc5-461c-a6e6-d98fc9703174",
   "metadata": {},
   "outputs": [
    {
     "name": "stdout",
     "output_type": "stream",
     "text": [
      "----------------------------.|.----------------------------\n",
      "-------------------------.|..|..|.-------------------------\n",
      "----------------------.|..|..|..|..|.----------------------\n",
      "-------------------.|..|..|..|..|..|..|.-------------------\n",
      "----------------.|..|..|..|..|..|..|..|..|.----------------\n",
      "-------------.|..|..|..|..|..|..|..|..|..|..|.-------------\n",
      "----------.|..|..|..|..|..|..|..|..|..|..|..|..|.----------\n",
      "-------.|..|..|..|..|..|..|..|..|..|..|..|..|..|..|.-------\n",
      "----.|..|..|..|..|..|..|..|..|..|..|..|..|..|..|..|..|.----\n",
      "--------------------------WELCOME--------------------------\n",
      "----.|..|..|..|..|..|..|..|..|..|..|..|..|..|..|..|..|.----\n",
      "-------.|..|..|..|..|..|..|..|..|..|..|..|..|..|..|.-------\n",
      "----------.|..|..|..|..|..|..|..|..|..|..|..|..|.----------\n",
      "-------------.|..|..|..|..|..|..|..|..|..|..|.-------------\n",
      "----------------.|..|..|..|..|..|..|..|..|.----------------\n",
      "-------------------.|..|..|..|..|..|..|.-------------------\n",
      "----------------------.|..|..|..|..|.----------------------\n",
      "-------------------------.|..|..|.-------------------------\n",
      "----------------------------.|.----------------------------\n"
     ]
    }
   ],
   "source": [
    "N = 20\n",
    "M = 60\n",
    "\n",
    "for i in range(1,((N-1)//2)+1):\n",
    "    print('-'*((M-3*(2*i-1))//2) + \".|.\"*(2*i-1) + '-'*((M-3*(2*i-1))//2))\n",
    "    \n",
    "print('-'*((M-7)//2) + 'WELCOME' + '-'*((M-7)//2))\n",
    "\n",
    "for i in range((((N-1)//2)),0,-1):\n",
    "    print('-'*((M-3*(2*i-1))//2) + \".|.\"*(2*i-1) + '-'*((M-3*(2*i-1))//2))\n"
   ]
  }
 ],
 "metadata": {
  "kernelspec": {
   "display_name": "Python 3 (ipykernel)",
   "language": "python",
   "name": "python3"
  },
  "language_info": {
   "codemirror_mode": {
    "name": "ipython",
    "version": 3
   },
   "file_extension": ".py",
   "mimetype": "text/x-python",
   "name": "python",
   "nbconvert_exporter": "python",
   "pygments_lexer": "ipython3",
   "version": "3.12.7"
  }
 },
 "nbformat": 4,
 "nbformat_minor": 5
}
