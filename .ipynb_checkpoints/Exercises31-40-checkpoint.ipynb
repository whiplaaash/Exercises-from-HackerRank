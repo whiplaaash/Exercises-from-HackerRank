{
 "cells": [
  {
   "cell_type": "markdown",
   "id": "b6060425-84bd-461e-8332-b92c754b83df",
   "metadata": {},
   "source": [
    "# Exercises 31-40"
   ]
  },
  {
   "cell_type": "markdown",
   "id": "b710dd52-8335-4212-8a3f-65294696b0a1",
   "metadata": {},
   "source": [
    "# Exercise 31: Create a class to get a Binary Tree with the method to calculate the maximum height."
   ]
  },
  {
   "cell_type": "code",
   "execution_count": 27,
   "id": "2a4f1ae9-fe60-4321-ad0f-b848153323d2",
   "metadata": {},
   "outputs": [],
   "source": [
    "class Node:\n",
    "    def __init__(self,data):\n",
    "        self.right=self.left=None\n",
    "        self.data = data\n",
    "        \n",
    "class Solution:\n",
    "    def insert(self,root,data):\n",
    "        if root==None:\n",
    "            return Node(data)\n",
    "        else:\n",
    "            if data<=root.data:\n",
    "                cur=self.insert(root.left,data)\n",
    "                root.left=cur\n",
    "            else:\n",
    "                cur=self.insert(root.right,data)\n",
    "                root.right=cur\n",
    "        return root\n",
    "\n",
    "    # This solution uses recursion:\n",
    "    \n",
    "    def getHeight(self,root):\n",
    "        #Write your code here\n",
    "        #self.root = root\n",
    "        if root is None:\n",
    "            return -1\n",
    "\n",
    "        # compute the height of left and right subtrees\n",
    "        lHeight = self.getHeight(root.left)\n",
    "        rHeight = self.getHeight(root.right)\n",
    "\n",
    "        return max(lHeight, rHeight) + 1"
   ]
  },
  {
   "cell_type": "code",
   "execution_count": null,
   "id": "d41cf4ff-d999-4b9f-b833-9e30c70fff9f",
   "metadata": {},
   "outputs": [],
   "source": [
    "myTree=Solution()\n",
    "root=None\n",
    "arr=[3,5,2,1,4,6,7]\n",
    "for i in range(len(arr)):\n",
    "    data=arr[i]\n",
    "    root=myTree.insert(root,data)\n",
    "height=myTree.getHeight(root)\n",
    "print(height)  "
   ]
  },
  {
   "cell_type": "markdown",
   "id": "2f5347b2-0f49-4d79-9b5d-a9af05f8416d",
   "metadata": {},
   "source": [
    "# Exercise 32: Print all values of the binary tree using level-order traversal (from 0th node to last, left to right)"
   ]
  },
  {
   "cell_type": "code",
   "execution_count": 22,
   "id": "c80a5049-32e9-46b8-90da-d958b38e9e93",
   "metadata": {},
   "outputs": [],
   "source": [
    "import sys\n",
    "\n",
    "class Node:\n",
    "    def __init__(self,data):\n",
    "        self.right=self.left=None\n",
    "        self.data = data\n",
    "        \n",
    "class Solution:\n",
    "    def insert(self,root,data):\n",
    "        if root==None:\n",
    "            return Node(data)\n",
    "        else:\n",
    "            if data<=root.data:\n",
    "                cur=self.insert(root.left,data)\n",
    "                root.left=cur\n",
    "            else:\n",
    "                cur=self.insert(root.right,data)\n",
    "                root.right=cur\n",
    "        return root\n",
    "\n",
    "    # This uses iterative method (recursive method is also possible but it is less optimal if it comes to time efficiency)\n",
    "    def levelOrder(self,root):\n",
    "        \n",
    "        if not root:\n",
    "            return []\n",
    " \n",
    "        queue = []\n",
    "        queue.append(root)\n",
    " \n",
    "        while(len(queue) > 0):\n",
    "            print(queue[0].data, end=\" \")\n",
    "            node = queue.pop(0)\n",
    "            if node.left is not None:\n",
    "                queue.append(node.left)\n",
    "    \n",
    "            if node.right is not None:\n",
    "                queue.append(node.right)"
   ]
  },
  {
   "cell_type": "code",
   "execution_count": 24,
   "id": "651c5d96-aea6-472b-9c47-7cb98a7485db",
   "metadata": {},
   "outputs": [
    {
     "name": "stdout",
     "output_type": "stream",
     "text": [
      "3 2 5 1 4 7 "
     ]
    }
   ],
   "source": [
    "arr = [3,2,5,1,4,7]\n",
    "myTree=Solution()\n",
    "root=None\n",
    "for i in range(len(arr)):\n",
    "    data=arr[i]\n",
    "    root=myTree.insert(root,data)\n",
    "myTree.levelOrder(root)"
   ]
  },
  {
   "cell_type": "markdown",
   "id": "cf4fdaa7-3813-4978-82d8-e083b4fe1d20",
   "metadata": {},
   "source": [
    "# Exercise 33: Removing duplicates from the linked list"
   ]
  },
  {
   "cell_type": "code",
   "execution_count": 47,
   "id": "858775c9-d53d-4f68-9cb0-ee0e3263f278",
   "metadata": {},
   "outputs": [
    {
     "name": "stdout",
     "output_type": "stream",
     "text": [
      "1 2 3 4 5 "
     ]
    }
   ],
   "source": [
    "class Node:\n",
    "    def __init__(self,data):\n",
    "        self.data = data\n",
    "        self.next = None \n",
    "        \n",
    "class Solution: \n",
    "    \n",
    "    def insert(self,head,data):\n",
    "            p = Node(data)           \n",
    "            if head==None:\n",
    "                head=p\n",
    "            elif head.next==None:\n",
    "                head.next=p\n",
    "            else:\n",
    "                start=head\n",
    "                while(start.next!=None):\n",
    "                    start=start.next\n",
    "                start.next=p\n",
    "            return head  \n",
    "        \n",
    "    def display(self,head):\n",
    "        current = head\n",
    "        while current:\n",
    "            print(current.data,end=' ')\n",
    "            current = current.next\n",
    "\n",
    "    def removeDuplicates(self,head):\n",
    "        #Write your code here\n",
    "        current = head\n",
    "        element_list = []\n",
    "        prev = None\n",
    "        while (current is not None):\n",
    "            if current.data not in element_list:\n",
    "                element_list.append(current.data)\n",
    "                prev = current\n",
    "                current = current.next\n",
    "            else:\n",
    "                prev.next = current.next\n",
    "                current = current.next\n",
    "        return head\n",
    "\n",
    "mylist= Solution()\n",
    "arr = [1, 2, 2, 3, 4, 3, 5]\n",
    "head=None\n",
    "for i in range(len(arr)):\n",
    "    data=arr[i]\n",
    "    head=mylist.insert(head,data)  \n",
    "    \n",
    "head=mylist.removeDuplicates(head)\n",
    "mylist.display(head)"
   ]
  },
  {
   "cell_type": "markdown",
   "id": "56cce987-ee53-4f8c-b9f3-90aa2608271c",
   "metadata": {},
   "source": [
    "# Exercise 34: Calculate a fine for returned book within a nested conditional statements."
   ]
  },
  {
   "cell_type": "code",
   "execution_count": 76,
   "id": "57331eaf-8828-46d4-ba27-56d25ef35984",
   "metadata": {},
   "outputs": [
    {
     "name": "stdout",
     "output_type": "stream",
     "text": [
      "45\n"
     ]
    }
   ],
   "source": [
    "Y_R=2015\n",
    "M_R=6\n",
    "D_R=9\n",
    "\n",
    "Y_E=2015\n",
    "M_E=6\n",
    "D_E=6\n",
    "\n",
    "if Y_R<Y_E:\n",
    "    fine=0\n",
    "elif Y_R==Y_E and M_R<M_E:\n",
    "    fine=0\n",
    "elif Y_R==Y_E and M_R==M_E and D_R<=D_E:\n",
    "    fine=0\n",
    "elif Y_R==Y_E and M_R==M_E and D_R>D_E:\n",
    "    fine=15*(D_R-D_E)\n",
    "elif Y_R==Y_E and M_R>M_E:\n",
    "    fine=500*(M_R-M_E)\n",
    "else:\n",
    "    fine=10000\n",
    "    \n",
    "print(fine)\n",
    "    "
   ]
  },
  {
   "cell_type": "markdown",
   "id": "8d1c4734-f896-4329-8f98-ba9b7dec2550",
   "metadata": {},
   "source": [
    "# Exercise 35: Print the pattern of Rangoli alphabet."
   ]
  },
  {
   "cell_type": "code",
   "execution_count": 247,
   "id": "e57aa209-941c-4cf6-8024-0f9ce8ce6ba4",
   "metadata": {},
   "outputs": [
    {
     "name": "stdout",
     "output_type": "stream",
     "text": [
      "17\n",
      "--------f--------\n",
      "-------e-------\n",
      "-------d-------\n",
      "------c------\n",
      "------b------\n",
      "-----a-----\n",
      "-----z-----\n",
      "----y----\n",
      "----x----\n",
      "---w---\n",
      "---v---\n",
      "--u--\n",
      "--t--\n",
      "-s-\n",
      "-r-\n",
      "q\n",
      "p\n"
     ]
    }
   ],
   "source": [
    "alpha = 'abcdefghijklmnopqrstuvwxyz'\n",
    "alpha[5]\n",
    "size=5\n",
    "H=size+(size-1)+2*(size-1)\n",
    "V=size+(size-1)\n",
    "\n",
    "print(H)\n",
    "\n",
    "for i in range(H):\n",
    "    print('-'*((H-(i+1))//2)+alpha[size-i]+'-'*((H-(i+1))//2))"
   ]
  },
  {
   "cell_type": "markdown",
   "id": "5c1a1ea6-30a6-48b3-a0bb-7baf7cb2e526",
   "metadata": {},
   "source": [
    "# Exercise 36: Find all permutations (substrings) of length 2 within a given string of length >= 2."
   ]
  },
  {
   "cell_type": "code",
   "execution_count": 254,
   "id": "d34aac7b-b8f2-4a01-8a80-760d616e4499",
   "metadata": {},
   "outputs": [
    {
     "name": "stdout",
     "output_type": "stream",
     "text": [
      "AC\n",
      "AH\n",
      "AK\n",
      "CA\n",
      "CH\n",
      "CK\n",
      "HA\n",
      "HC\n",
      "HK\n",
      "KA\n",
      "KC\n",
      "KH\n"
     ]
    }
   ],
   "source": [
    "from itertools import permutations \n",
    "\n",
    "S='HACK 2'.split(' ')\n",
    "\n",
    "s=S[0]\n",
    "n=int(S[1])\n",
    "\n",
    "g=list(permutations(s,n))\n",
    "g.sort()\n",
    "for i in g:\n",
    "    p=''.join(i)\n",
    "    print(p)"
   ]
  },
  {
   "cell_type": "code",
   "execution_count": null,
   "id": "e9962155-f948-4e94-b6da-eed6b7eef47d",
   "metadata": {},
   "outputs": [],
   "source": []
  }
 ],
 "metadata": {
  "kernelspec": {
   "display_name": "Python 3 (ipykernel)",
   "language": "python",
   "name": "python3"
  },
  "language_info": {
   "codemirror_mode": {
    "name": "ipython",
    "version": 3
   },
   "file_extension": ".py",
   "mimetype": "text/x-python",
   "name": "python",
   "nbconvert_exporter": "python",
   "pygments_lexer": "ipython3",
   "version": "3.12.7"
  }
 },
 "nbformat": 4,
 "nbformat_minor": 5
}
