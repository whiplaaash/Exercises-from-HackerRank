{
 "cells": [
  {
   "cell_type": "markdown",
   "id": "625d48e0-0fc4-4767-ab5c-da0bb568ed5b",
   "metadata": {},
   "source": [
    "# Exercises 41-50:"
   ]
  },
  {
   "cell_type": "markdown",
   "id": "08512814-fcb0-4d9b-bd76-9a96101611ac",
   "metadata": {},
   "source": [
    "# Exercise 41: Capitalize each world in a given string."
   ]
  },
  {
   "cell_type": "markdown",
   "id": "991ebdca-d733-4695-939c-045875f7968f",
   "metadata": {},
   "source": [
    "### Method 1:"
   ]
  },
  {
   "cell_type": "code",
   "execution_count": 6,
   "id": "ed2fb8cf-4434-4e49-acc4-1a1698938308",
   "metadata": {},
   "outputs": [
    {
     "data": {
      "text/plain": [
       "'Hello World Fgt'"
      ]
     },
     "execution_count": 6,
     "metadata": {},
     "output_type": "execute_result"
    }
   ],
   "source": [
    "h=\"hello world fgt\"\n",
    "\n",
    "def solve(s):\n",
    "    a=s.split(' ')\n",
    "    b=[]\n",
    "    for i in range(len(a)):\n",
    "        k=a[i].capitalize()\n",
    "        b.append(k)\n",
    "    c=' '.join(b)\n",
    "    return c\n",
    "\n",
    "solve(h)"
   ]
  },
  {
   "cell_type": "markdown",
   "id": "b1bce9f1-de12-4b50-9f25-6fdd8b392534",
   "metadata": {},
   "source": [
    "### Method 2:"
   ]
  },
  {
   "cell_type": "code",
   "execution_count": 9,
   "id": "33b09913-37b4-4a01-9992-fc90c7119de6",
   "metadata": {},
   "outputs": [
    {
     "data": {
      "text/plain": [
       "'Hello World Fgt'"
      ]
     },
     "execution_count": 9,
     "metadata": {},
     "output_type": "execute_result"
    }
   ],
   "source": [
    "g=h.split(' ')\n",
    "a=list(map(str.capitalize,g))\n",
    "' '.join(a)"
   ]
  },
  {
   "cell_type": "markdown",
   "id": "29494d32-070e-4988-bb9c-16c34223c9d7",
   "metadata": {},
   "source": [
    "# Exercise 42: Given the number of shoes in the store, and the tuples with a size and price, calculate the total sum of the sold shoes. Use \"Counter\" from \"collections\"."
   ]
  },
  {
   "cell_type": "code",
   "execution_count": 16,
   "id": "7ee782af-c827-4e63-bf8f-05b8679b7ce9",
   "metadata": {},
   "outputs": [
    {
     "name": "stdout",
     "output_type": "stream",
     "text": [
      "200\n"
     ]
    }
   ],
   "source": [
    "from collections import Counter\n",
    "\n",
    "# this is needed for reading data from external input\n",
    "\n",
    "#import sys\n",
    "#X=int(input())\n",
    "#Shoes=input().split(' ')\n",
    "#listShoes=list(map(int, Shoes))\n",
    "#N=int(input())\n",
    "\n",
    "# list of sizes in the store\n",
    "listShoes = [2,3,4,5,6,8,7,6,5,18]\n",
    "\n",
    "#k=[]\n",
    "#for i in range(N):\n",
    "#    i=input().split(' ')\n",
    "#    m=tuple(map(int, i))\n",
    "#    k.append(m)\n",
    "\n",
    "# list of tuples, with (size, price) format\n",
    "k=[(6,55), (6,45), (6,55), (4,40), (18,60), (10,50)]\n",
    "\n",
    "cc=Counter(listShoes)\n",
    "sum=0\n",
    "for i in k:\n",
    "    for j in cc.keys():\n",
    "        p=i[0]\n",
    "        if p==j and cc[j]!=0:\n",
    "            sum=sum+i[1]\n",
    "            cc[j]=cc[j]-1\n",
    "            \n",
    "print(sum)"
   ]
  },
  {
   "cell_type": "markdown",
   "id": "8446c8e5-43e1-4987-bf83-a293f3a647fa",
   "metadata": {},
   "source": [
    "# Exercise 43: Minion game\n",
    "Find who will win the game. Given a string, count all points for all possible substrings starting with any consonant (Stuart's points), then count all points for all possible substrings staarting with any vowel (Kevin's points). Print the winner and his total number of points."
   ]
  },
  {
   "cell_type": "markdown",
   "id": "1c75128b-eebd-47be-b19b-9729c8fc7f55",
   "metadata": {},
   "source": [
    "1st version:"
   ]
  },
  {
   "cell_type": "code",
   "execution_count": 214,
   "id": "8ebf21bd-449c-49a2-b98b-f5a07da50287",
   "metadata": {},
   "outputs": [],
   "source": [
    "def minion_game(string):\n",
    "\n",
    "    vow=list('AEIOU')\n",
    "\n",
    "    sumStuart=0\n",
    "    sumKevin=0\n",
    "    \n",
    "    for idx,val in enumerate(string):\n",
    "        k=len(string[idx:])\n",
    "        #print(k)\n",
    "        if val in vow:\n",
    "            sumKevin=sumKevin+k\n",
    "        else:\n",
    "            sumStuart=sumStuart+k\n",
    "        string=string.replace(val,'-',1)\n",
    "        #print(string)\n",
    "            \n",
    "    if sumStuart > sumKevin:\n",
    "        print(\"Stuart\", sumStuart)\n",
    "    elif sumStuart < sumKevin:\n",
    "        print(\"Kevin\", sumKevin)\n",
    "    else:\n",
    "        print(\"Draw\")"
   ]
  },
  {
   "cell_type": "code",
   "execution_count": 216,
   "id": "945b5270-acfb-4f73-8054-af68c719ca0a",
   "metadata": {},
   "outputs": [
    {
     "name": "stdout",
     "output_type": "stream",
     "text": [
      "Stuart 455\n"
     ]
    }
   ],
   "source": [
    "p='AANANAGHTYFFGTHTFFFBHAAAMOLOOOAOAOALG'\n",
    "minion_game(p)"
   ]
  },
  {
   "cell_type": "markdown",
   "id": "2f7c80a2-cc29-4de1-90e4-ba9204a82fc6",
   "metadata": {},
   "source": [
    "2nd version (with numpy arrays, which make the computations fatser):"
   ]
  },
  {
   "cell_type": "code",
   "execution_count": 228,
   "id": "8b696f32-6a08-4647-8a6b-0896d7c21072",
   "metadata": {},
   "outputs": [],
   "source": [
    "import numpy as np\n",
    "\n",
    "def minion_game(string):\n",
    "\n",
    "    vow=list('AEIOU')\n",
    "\n",
    "    sumStuart=0\n",
    "    sumKevin=0\n",
    "\n",
    "    st=np.array(list(string))\n",
    "    #print(st)\n",
    "    \n",
    "    for idx,val in enumerate(st):\n",
    "        k=len(st[idx:])\n",
    "        #print(k)\n",
    "        if val in vow:\n",
    "            sumKevin=sumKevin+k\n",
    "        else:\n",
    "            sumStuart=sumStuart+k\n",
    "        string=string.replace(val,'-',1)\n",
    "        #print(string)\n",
    "            \n",
    "    if sumStuart > sumKevin:\n",
    "        print(\"Stuart\", sumStuart)\n",
    "    elif sumStuart < sumKevin:\n",
    "        print(\"Kevin\", sumKevin)\n",
    "    else:\n",
    "        print(\"Draw\")"
   ]
  },
  {
   "cell_type": "code",
   "execution_count": 230,
   "id": "b32c63ca-cbb3-4dd3-bc80-52afea361d23",
   "metadata": {},
   "outputs": [
    {
     "name": "stdout",
     "output_type": "stream",
     "text": [
      "Stuart 12\n"
     ]
    }
   ],
   "source": [
    "d='BANANA'\n",
    "minion_game(d)\n"
   ]
  },
  {
   "cell_type": "code",
   "execution_count": null,
   "id": "7c9c0f3e-37fc-4e8e-b485-92e1cc660bbf",
   "metadata": {},
   "outputs": [],
   "source": []
  }
 ],
 "metadata": {
  "kernelspec": {
   "display_name": "Python 3 (ipykernel)",
   "language": "python",
   "name": "python3"
  },
  "language_info": {
   "codemirror_mode": {
    "name": "ipython",
    "version": 3
   },
   "file_extension": ".py",
   "mimetype": "text/x-python",
   "name": "python",
   "nbconvert_exporter": "python",
   "pygments_lexer": "ipython3",
   "version": "3.12.7"
  }
 },
 "nbformat": 4,
 "nbformat_minor": 5
}
