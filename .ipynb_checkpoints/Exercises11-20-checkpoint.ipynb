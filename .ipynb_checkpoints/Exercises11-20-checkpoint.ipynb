{
 "cells": [
  {
   "cell_type": "markdown",
   "id": "9472d57d-26b4-4dfd-9392-b231c57ecffc",
   "metadata": {},
   "source": [
    "# Exercises 11-20"
   ]
  },
  {
   "cell_type": "markdown",
   "id": "f4d281f3-9ebd-4955-9045-1bb2716390a4",
   "metadata": {},
   "source": [
    "# Exercise 11: Time conversion  from 12-hour to 24-hour system."
   ]
  },
  {
   "cell_type": "code",
   "execution_count": 4,
   "id": "8a3e8fe6-7b43-40e3-ab0f-53f201c65f7a",
   "metadata": {},
   "outputs": [],
   "source": [
    "def timeConversion(s):\n",
    "    # Write your code here\n",
    "    if s[:2] == \"12\" and s[-2:] == \"AM\":\n",
    "        return \"00\" + s[2:-2]\n",
    "    elif s[:2] != \"12\" and s[-2:] == \"AM\":\n",
    "        return s[:-2]\n",
    "    elif s[:2] == \"12\" and s[-2:] == \"PM\":\n",
    "        return \"12\" + s[2:-2]\n",
    "    else:\n",
    "        k = int(s[:2]) + 12\n",
    "        p = str(k)\n",
    "        return p + s[2:-2]"
   ]
  },
  {
   "cell_type": "code",
   "execution_count": 6,
   "id": "789904fe-85ca-49ed-8cee-c724e54f7b1d",
   "metadata": {},
   "outputs": [
    {
     "data": {
      "text/plain": [
       "'00:03:06'"
      ]
     },
     "execution_count": 6,
     "metadata": {},
     "output_type": "execute_result"
    }
   ],
   "source": [
    "timeConversion(\"12:03:06AM\")"
   ]
  },
  {
   "cell_type": "markdown",
   "id": "7f30cb66-0fa0-4cf7-bf68-926a91bcbe1b",
   "metadata": {},
   "source": [
    "# Exrecise 12: Printing \"Buzz\""
   ]
  },
  {
   "cell_type": "code",
   "execution_count": 9,
   "id": "2e066339-ff6e-4e85-9ea4-cd8d0bcc2728",
   "metadata": {},
   "outputs": [
    {
     "name": "stdout",
     "output_type": "stream",
     "text": [
      "1 \t\n",
      "2 \t\n",
      "Fizz \t\n",
      "4 \t\n",
      "Buzz \t\n",
      "Fizz \t\n",
      "7 \t\n",
      "8 \t\n",
      "Fizz \t\n",
      "Buzz \t\n",
      "11 \t\n",
      "Fizz \t\n",
      "13 \t\n",
      "14 \t\n",
      "FizzBuzz \t\n",
      "16 \t\n",
      "17 \t\n",
      "Fizz \t\n",
      "19 \t\n",
      "Buzz \t\n",
      "Fizz \t\n",
      "22 \t\n",
      "23 \t\n",
      "Fizz \t\n",
      "Buzz \t\n"
     ]
    }
   ],
   "source": [
    "n=25\n",
    "\n",
    "for i in range(1,n+1):\n",
    "    if i%3==0 and i%5==0:\n",
    "        print(\"FizzBuzz\", \"\\t\")\n",
    "    elif i%3==0:\n",
    "        print(\"Fizz \\t\")\n",
    "    elif i%5==0:\n",
    "        print(\"Buzz \\t\")\n",
    "    else:\n",
    "        print(i, \"\\t\")"
   ]
  },
  {
   "cell_type": "markdown",
   "id": "bcd6c2cb-db1a-4ee7-97b4-2cccdbbc538a",
   "metadata": {},
   "source": [
    "# Exercise 13: Centering a word with adding dots"
   ]
  },
  {
   "cell_type": "code",
   "execution_count": 38,
   "id": "e6620590-d34c-47e1-aaa0-e06456938484",
   "metadata": {},
   "outputs": [
    {
     "data": {
      "text/plain": [
       "3"
      ]
     },
     "execution_count": 38,
     "metadata": {},
     "output_type": "execute_result"
    }
   ],
   "source": [
    "w = [12,13,14]\n",
    "c = ['alan','piotr','ewa']\n",
    "len(c)"
   ]
  },
  {
   "cell_type": "code",
   "execution_count": 40,
   "id": "36d4582c-7b75-47da-9a0a-7e4287fdc279",
   "metadata": {},
   "outputs": [],
   "source": [
    "def centerDisplay(width, content):\n",
    "    \n",
    "    for i in range(len(content)):\n",
    "        k = str(content[i])\n",
    "        c = len(k)\n",
    "        h = width[i] - c\n",
    "        dot = \".\"\n",
    "        if h%2==0:\n",
    "            p=h/2\n",
    "            p=int(p)\n",
    "            left = p*dot\n",
    "            right = p*dot\n",
    "            k = left + k + right\n",
    "            print(k)\n",
    "        else:\n",
    "            g=h-1\n",
    "            p=g/2\n",
    "            p=int(p)\n",
    "            left = (p+1)*dot\n",
    "            right = p*dot\n",
    "            k= left +k + right\n",
    "            print(k)"
   ]
  },
  {
   "cell_type": "code",
   "execution_count": 42,
   "id": "a6bd1506-9563-4bc9-aab6-b81c34e314c6",
   "metadata": {},
   "outputs": [
    {
     "name": "stdout",
     "output_type": "stream",
     "text": [
      "....alan....\n",
      "....piotr....\n",
      "......ewa.....\n"
     ]
    }
   ],
   "source": [
    "centerDisplay(w,c)"
   ]
  },
  {
   "cell_type": "markdown",
   "id": "53edbbaa-d137-43b7-9c03-c4f991e48a0e",
   "metadata": {},
   "source": [
    "# Exercise 14: Grouping anagrams\n",
    "\n",
    "Group words into 2 separate lists so that they contain the same set of letters."
   ]
  },
  {
   "cell_type": "code",
   "execution_count": 49,
   "id": "a844ea92-56ea-487c-b40d-eebdf0c1cf1c",
   "metadata": {},
   "outputs": [
    {
     "data": {
      "text/plain": [
       "['car', 'rac', 'arc', 'tara', 'rata']"
      ]
     },
     "execution_count": 49,
     "metadata": {},
     "output_type": "execute_result"
    }
   ],
   "source": [
    "anag = ['car','rac','arc','tara','rata']\n",
    "anag"
   ]
  },
  {
   "cell_type": "code",
   "execution_count": 70,
   "id": "5c5bcbf8-0410-45e4-9a18-fba2ceac9783",
   "metadata": {},
   "outputs": [
    {
     "name": "stdout",
     "output_type": "stream",
     "text": [
      "['car'] ['rac', 'arc', 'tara', 'rata']\n"
     ]
    }
   ],
   "source": [
    "h = []\n",
    "l = []\n",
    "for i in range(len(anag)):\n",
    "    sorted_string = sorted(list(anag[i]))\n",
    "    joined_string = \"\".join(sorted_string)\n",
    "    if i == 0:\n",
    "        h.append(anag[i])\n",
    "    else:\n",
    "        l.append(anag[i])\n",
    "print(h,l)"
   ]
  },
  {
   "cell_type": "code",
   "execution_count": null,
   "id": "a4412344-4039-428f-a342-6638e2d0b82d",
   "metadata": {},
   "outputs": [],
   "source": [
    "#\n",
    "#\n",
    "#\n",
    "#\n",
    "#\n",
    "#\n",
    "#\n",
    "#"
   ]
  },
  {
   "cell_type": "markdown",
   "id": "119b4ce5-94d4-45d3-b876-ee3e00e2e533",
   "metadata": {},
   "source": [
    "# Exercise 15: Calculating maximal number of 1's in a binary representation of a given number."
   ]
  },
  {
   "cell_type": "code",
   "execution_count": 170,
   "id": "e1edd60c-3a44-4dc2-9fad-805711d990a6",
   "metadata": {},
   "outputs": [],
   "source": [
    "n = 5"
   ]
  },
  {
   "cell_type": "code",
   "execution_count": 172,
   "id": "654bc962-af14-4000-af9e-33b831a366d5",
   "metadata": {},
   "outputs": [
    {
     "data": {
      "text/plain": [
       "'101'"
      ]
     },
     "execution_count": 172,
     "metadata": {},
     "output_type": "execute_result"
    }
   ],
   "source": [
    "b = bin(n)[2:]\n",
    "b"
   ]
  },
  {
   "cell_type": "code",
   "execution_count": 178,
   "id": "d815b6d6-922d-40c7-9e64-d71779301bf6",
   "metadata": {},
   "outputs": [
    {
     "name": "stdout",
     "output_type": "stream",
     "text": [
      "[1]\n",
      "[1, 0]\n",
      "[1, 0, 1]\n",
      "[1, 1, 0]\n"
     ]
    },
    {
     "data": {
      "text/plain": [
       "1"
      ]
     },
     "execution_count": 178,
     "metadata": {},
     "output_type": "execute_result"
    }
   ],
   "source": [
    "k = 0\n",
    "t = []\n",
    "for i in range(len(b)):\n",
    "    if b[i] == '1':\n",
    "        k = k + 1\n",
    "        t.append(k)\n",
    "        print(t)\n",
    "    else:\n",
    "        k = 0\n",
    "        t.append(k)\n",
    "        print(t)\n",
    "t.sort(reverse = True)\n",
    "print(t)\n",
    "t[0]"
   ]
  },
  {
   "cell_type": "markdown",
   "id": "30332e43-7cb9-42d8-9761-599e46d2f01f",
   "metadata": {},
   "source": [
    "# Exercise 16: Hourglass - sum of elements in 2D subarray"
   ]
  },
  {
   "cell_type": "code",
   "execution_count": 321,
   "id": "2429d68b-711b-4076-8f9c-33e23d15d3a9",
   "metadata": {},
   "outputs": [],
   "source": [
    "A = [[1,1,1,0,0,0], \n",
    "     [0,1,0,0,0,0], \n",
    "     [1,1,1,0,0,0], \n",
    "     [0,0,0,0,0,0], \n",
    "     [0,0,0,0,0,0], \n",
    "     [0,0,0,0,0,0]]"
   ]
  },
  {
   "cell_type": "code",
   "execution_count": 323,
   "id": "21c63020-c27f-48d5-9067-56dbc71ae456",
   "metadata": {},
   "outputs": [
    {
     "data": {
      "text/plain": [
       "0"
      ]
     },
     "execution_count": 323,
     "metadata": {},
     "output_type": "execute_result"
    }
   ],
   "source": [
    "A[0][5]"
   ]
  },
  {
   "cell_type": "code",
   "execution_count": 339,
   "id": "6597d814-860c-4ab0-94ba-7870b2ff7d02",
   "metadata": {},
   "outputs": [
    {
     "name": "stdout",
     "output_type": "stream",
     "text": [
      "[7, 4, 2, 0, 2, 2, 0, 0, 3, 2, 1, 0, 0, 0, 0, 0]\n"
     ]
    }
   ],
   "source": [
    "rows, columns = len(A), len(A)\n",
    "\n",
    "arr = []\n",
    "for i in range(rows-2):\n",
    "    for j in range(columns-2):\n",
    "        sum = A[i+1][j+1]\n",
    "        for k in range(3):\n",
    "            sum = sum + A[i][j+k] + A[i+2][j+k] \n",
    "        arr.append(sum)\n",
    "print(arr)\n",
    "        "
   ]
  },
  {
   "cell_type": "markdown",
   "id": "43b52bf8-9ee8-4b4a-9bf9-61bf868c5dcf",
   "metadata": {},
   "source": [
    "# Exercise 17: Inheritance of a class"
   ]
  },
  {
   "cell_type": "code",
   "execution_count": 414,
   "id": "0226df6d-6e00-4139-b71f-e2386c791fc6",
   "metadata": {},
   "outputs": [],
   "source": [
    "class Person:\n",
    "\tdef __init__(self, firstName, lastName, idNumber):\n",
    "\t\tself.firstName = firstName\n",
    "\t\tself.lastName = lastName\n",
    "\t\tself.idNumber = idNumber\n",
    "\tdef printPerson(self):\n",
    "\t\tprint(\"Name:\", self.lastName + \",\", self.firstName)\n",
    "\t\tprint(\"ID:\", self.idNumber)"
   ]
  },
  {
   "cell_type": "code",
   "execution_count": 420,
   "id": "ae4cc13f-74b1-4d3b-92b3-de0c3fb1e679",
   "metadata": {},
   "outputs": [],
   "source": [
    "class Student(Person):\n",
    "    \n",
    "    def __init__(self, firstName, lastName, idNumber, scores):\n",
    "\n",
    "        super().__init__(firstName, lastName, idNumber)\n",
    "        \n",
    "        self.scores = scores\n",
    "\n",
    "    def printPerson(self):\n",
    "        super().printPerson()\n",
    "\n",
    "    def calculate(self):\n",
    "        sum = 0\n",
    "        d = len(self.scores)\n",
    "        for i in range(d):\n",
    "            sum = sum + self.scores[i]\n",
    "        \n",
    "        avg = sum/d\n",
    "\n",
    "        if 90 <= avg <= 100:\n",
    "            return str(\"O\")\n",
    "        elif 80 <= avg < 90:\n",
    "            return str(\"E\")\n",
    "        elif 70 <= avg < 80:\n",
    "            return str(\"A\")\n",
    "        elif 55 <= avg < 70:\n",
    "            return str(\"P\")\n",
    "        elif 40 <= avg < 55:\n",
    "            return str(\"D\")\n",
    "        else:\n",
    "            return str(\"T\")\n",
    "            "
   ]
  },
  {
   "cell_type": "code",
   "execution_count": 424,
   "id": "84c79255-ce18-4d26-82fb-18a7ae2921c6",
   "metadata": {},
   "outputs": [
    {
     "name": "stdout",
     "output_type": "stream",
     "text": [
      "Grade: D\n"
     ]
    }
   ],
   "source": [
    "studencik = Student(\"Adam\", \"Marzec\", 556655, [4,56,90])\n",
    "print(\"Grade:\", studencik.calculate())"
   ]
  },
  {
   "cell_type": "markdown",
   "id": "aa85af56-b52f-4a3f-8123-c92566b9ffb2",
   "metadata": {},
   "source": [
    "# Exercise 18: Abstract class"
   ]
  },
  {
   "cell_type": "code",
   "execution_count": 462,
   "id": "a4014060-fd1e-4fb2-8367-ad160c86557c",
   "metadata": {},
   "outputs": [],
   "source": [
    "from abc import ABCMeta, abstractmethod\n",
    "\n",
    "class Book(object, metaclass=ABCMeta):\n",
    "    def __init__(self,title, author):\n",
    "        self.title = title\n",
    "        self.author = author   \n",
    "    @abstractmethod\n",
    "    def display(): \n",
    "        pass"
   ]
  },
  {
   "cell_type": "code",
   "execution_count": 464,
   "id": "c3ba4833-87c4-4f9a-8b07-d5a2d1360222",
   "metadata": {},
   "outputs": [],
   "source": [
    "class MyBook(Book):\n",
    "    def __init__(self, title, author, price):\n",
    "        super().__init__(title, author)\n",
    "        self.price = price\n",
    "\n",
    "    def display(self):\n",
    "        print(\"Title:\", self.title)\n",
    "        print(\"Author:\", self.author)\n",
    "        print(\"Price:\", self.price)"
   ]
  },
  {
   "cell_type": "code",
   "execution_count": 466,
   "id": "da2c3de6-6ea6-4e97-9903-160ced71f109",
   "metadata": {},
   "outputs": [
    {
     "name": "stdout",
     "output_type": "stream",
     "text": [
      "Title: Amanda\n",
      "Author: Greg Goliat\n",
      "Price: 30\n"
     ]
    }
   ],
   "source": [
    "book = MyBook(\"Amanda\", \"Greg Goliat\", 30)\n",
    "book.display()"
   ]
  },
  {
   "cell_type": "markdown",
   "id": "70a507a5-5446-4ddb-925a-7a7fac90be5a",
   "metadata": {},
   "source": [
    "# Exercise 19: \n",
    "\n",
    "List comprehensions\n",
    "\n",
    "Write all combinations of integers (i,j,k) in ranges (x,y,z), respectively, so that the condition $i+j+k \\neq n$ is satisfied. "
   ]
  },
  {
   "cell_type": "code",
   "execution_count": 445,
   "id": "2b51d10f-4b95-480d-a139-79d191b83978",
   "metadata": {},
   "outputs": [],
   "source": [
    "x = 1\n",
    "y = 1\n",
    "z = 1\n",
    "n = 2"
   ]
  },
  {
   "cell_type": "code",
   "execution_count": 447,
   "id": "85030425-21bc-4658-ac36-6fae31a11ac2",
   "metadata": {},
   "outputs": [
    {
     "name": "stdout",
     "output_type": "stream",
     "text": [
      "[[0, 0, 0], [0, 0, 1], [0, 1, 0], [1, 0, 0], [1, 1, 1]]\n"
     ]
    }
   ],
   "source": [
    "a = [[i,j,k] for i in range(x+1) for j in range(y+1) for k in range(z+1) if i+j+k != n]\n",
    "\n",
    "print(a)"
   ]
  },
  {
   "cell_type": "markdown",
   "id": "24ba994c-3c2b-4eb1-a08a-ab0ad43d96e5",
   "metadata": {},
   "source": [
    "# Exercise 20: \n",
    "Find the second biggest (runner-up) element of an array $A$."
   ]
  },
  {
   "cell_type": "code",
   "execution_count": 456,
   "id": "7d00de45-f462-49af-8bba-c640a43f218d",
   "metadata": {},
   "outputs": [],
   "source": [
    "arr = [2,2,3,7,7,4,9,8,11]"
   ]
  },
  {
   "cell_type": "code",
   "execution_count": 458,
   "id": "c172a492-b7d3-4ce5-857d-272b0c7d7b1c",
   "metadata": {},
   "outputs": [
    {
     "name": "stdout",
     "output_type": "stream",
     "text": [
      "9\n"
     ]
    }
   ],
   "source": [
    "new_arr = list(set(arr)) \n",
    "# to find unique values of the list, we first convert it to a set, and then again to a list\n",
    "\n",
    "new_arr.sort(reverse=True)\n",
    "print(new_arr[1])"
   ]
  },
  {
   "cell_type": "code",
   "execution_count": null,
   "id": "f408955f-e002-4898-8547-c7d41fdbdb7b",
   "metadata": {},
   "outputs": [],
   "source": []
  }
 ],
 "metadata": {
  "kernelspec": {
   "display_name": "Python 3 (ipykernel)",
   "language": "python",
   "name": "python3"
  },
  "language_info": {
   "codemirror_mode": {
    "name": "ipython",
    "version": 3
   },
   "file_extension": ".py",
   "mimetype": "text/x-python",
   "name": "python",
   "nbconvert_exporter": "python",
   "pygments_lexer": "ipython3",
   "version": "3.12.7"
  }
 },
 "nbformat": 4,
 "nbformat_minor": 5
}
