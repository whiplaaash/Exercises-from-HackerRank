{
 "cells": [
  {
   "cell_type": "markdown",
   "id": "0930ff41-16bd-4099-bf6b-c0874c6ade39",
   "metadata": {},
   "source": [
    "# Exercises 1-10"
   ]
  },
  {
   "cell_type": "markdown",
   "id": "0874a571-2cd7-4bad-be07-37bb5a6988c1",
   "metadata": {},
   "source": [
    "## Exercise 1: Absolute difference of diagonals\n",
    "Given a square marrix $A$ of a dimension $n$, write the function that calculates the absolute value of main diagonal and secondary diagonal."
   ]
  },
  {
   "cell_type": "code",
   "execution_count": 44,
   "id": "f6f02514-9767-4458-9271-c64d38f7905a",
   "metadata": {},
   "outputs": [],
   "source": [
    "B = [[8,4,-2],[2,4,6],[1,5,-2]] "
   ]
  },
  {
   "cell_type": "code",
   "execution_count": 46,
   "id": "afcb6b79-d89f-45d0-ad99-23b64639d510",
   "metadata": {},
   "outputs": [],
   "source": [
    "def diagonalDifference(A):\n",
    "    # Sum of elements on a diagonal\n",
    "    left = 0\n",
    "    right = 0\n",
    "    for i in range(len(A)):\n",
    "        for j in range(len(A[i])):\n",
    "            if i == j:\n",
    "                left = left + A[i][j]\n",
    "            else:\n",
    "                pass\n",
    "    # Sum of elements on the secondary diagonal\n",
    "    for i in range(len(A)):\n",
    "        for j in range(len(A[i])):\n",
    "            if i+j == len(A)-1:\n",
    "                right = right + A[i][j]\n",
    "            else:\n",
    "                pass\n",
    "    return abs(left-right)"
   ]
  },
  {
   "cell_type": "code",
   "execution_count": 48,
   "id": "7f21db71-51f0-48c6-81e2-1ed039302d90",
   "metadata": {},
   "outputs": [
    {
     "data": {
      "text/plain": [
       "7"
      ]
     },
     "execution_count": 48,
     "metadata": {},
     "output_type": "execute_result"
    }
   ],
   "source": [
    "diagonalDifference(B)"
   ]
  },
  {
   "cell_type": "markdown",
   "id": "0536a6cd-1965-4daa-ad5d-22ae9fabd7a2",
   "metadata": {},
   "source": [
    "## Exercise 2: Sum of elements of an array\n",
    "Calculate the sum of elements of 1D array."
   ]
  },
  {
   "cell_type": "code",
   "execution_count": 10,
   "id": "d4841e95-ef05-4c91-9c90-4f85fedea38d",
   "metadata": {},
   "outputs": [],
   "source": [
    "W = [3, 4, 7, 2, 9]"
   ]
  },
  {
   "cell_type": "code",
   "execution_count": 16,
   "id": "7bf00e42-4c1c-47af-a724-0dded04afe33",
   "metadata": {},
   "outputs": [],
   "source": [
    "def aVeryBigSum(ar):\n",
    "    # Write your code here\n",
    "    k = 0\n",
    "    for i in range(len(ar)):\n",
    "        k = k + ar[i]\n",
    "    return k"
   ]
  },
  {
   "cell_type": "code",
   "execution_count": 18,
   "id": "e5151503-e451-4355-a990-80103c65bfd2",
   "metadata": {},
   "outputs": [
    {
     "data": {
      "text/plain": [
       "25"
      ]
     },
     "execution_count": 18,
     "metadata": {},
     "output_type": "execute_result"
    }
   ],
   "source": [
    "aVeryBigSum(W)"
   ]
  },
  {
   "cell_type": "markdown",
   "id": "e2d57159-9830-40b2-92bd-47aaf65bf37a",
   "metadata": {},
   "source": [
    "# Exercise 3: Comparing the elements of 2 arrays\n",
    "\n",
    "Compare the elements of 2 arrays (triplets) and award the element that is bigger, when they are equal give 0 points. Then sum up the points and show them in a separate array."
   ]
  },
  {
   "cell_type": "code",
   "execution_count": 27,
   "id": "2208a0a1-f207-4812-9c31-df3d85edcb84",
   "metadata": {},
   "outputs": [],
   "source": [
    "d1 = [3,4,1]\n",
    "d2 = [1,2,3]"
   ]
  },
  {
   "cell_type": "code",
   "execution_count": 29,
   "id": "63d42fb6-a05f-4188-9a11-580f04ae4017",
   "metadata": {},
   "outputs": [],
   "source": [
    "def compareTriplets(a, b):\n",
    "    ab = [0,0]\n",
    "    for i in range(len(a)):\n",
    "        if a[i]>b[i]:\n",
    "            ab[0] = ab[0] + 1\n",
    "        elif a[i]<b[i]:\n",
    "            ab[1] = ab[1] + 1\n",
    "        else:\n",
    "            ab = ab\n",
    "    return ab"
   ]
  },
  {
   "cell_type": "code",
   "execution_count": 31,
   "id": "55c478ea-08cc-4b16-8462-6eee78d24698",
   "metadata": {},
   "outputs": [
    {
     "data": {
      "text/plain": [
       "[2, 1]"
      ]
     },
     "execution_count": 31,
     "metadata": {},
     "output_type": "execute_result"
    }
   ],
   "source": [
    "compareTriplets(d1,d2)"
   ]
  },
  {
   "cell_type": "markdown",
   "id": "02872c37-4b8b-4f2c-8d49-70cbfaccc2cb",
   "metadata": {},
   "source": [
    "# Exercise 4: Defining a class with some methods\n",
    "\n",
    "Define a class Person with a parameter $age$ and some methods that work on the $age$ variable."
   ]
  },
  {
   "cell_type": "code",
   "execution_count": 58,
   "id": "6240cdc7-f41e-4d92-ab00-eaab3af2d557",
   "metadata": {},
   "outputs": [],
   "source": [
    "class Person:\n",
    "    def __init__(self,initialAge):\n",
    "        # Add some more code to run some checks on initialAge\n",
    "        if initialAge >= 0:\n",
    "            self.initialAge = initialAge\n",
    "        else:\n",
    "            self.initialAge = 0\n",
    "            print(\"Age is not valid, setting age to 0.\")\n",
    "        \n",
    "    def amIOld(self):\n",
    "        # Do some computations in here and print out the correct statement to the console\n",
    "        if self.initialAge < 13:\n",
    "            print(\"You are young.\")\n",
    "        elif 13 <= self.initialAge < 18:\n",
    "            print(\"You are a teenager.\")\n",
    "        else:\n",
    "            print(\"You are old.\")\n",
    "        \n",
    "    def yearPasses(self):\n",
    "        # Increment the age of the person in here\n",
    "        self.initialAge += 1\n",
    "        print(self.initialAge)"
   ]
  },
  {
   "cell_type": "code",
   "execution_count": 60,
   "id": "eec436f4-d2dd-49d4-8abc-c9c395035038",
   "metadata": {},
   "outputs": [],
   "source": [
    "# Define the instance of the class\n",
    "Ala = Person(7)"
   ]
  },
  {
   "cell_type": "code",
   "execution_count": 62,
   "id": "3200b285-855f-49fb-9204-1656064099d7",
   "metadata": {},
   "outputs": [
    {
     "name": "stdout",
     "output_type": "stream",
     "text": [
      "You are young.\n"
     ]
    }
   ],
   "source": [
    "# Call the method to see how old is the person\n",
    "Ala.amIOld()"
   ]
  },
  {
   "cell_type": "code",
   "execution_count": 66,
   "id": "f842772b-7537-4f62-8d51-ffe03c4081d5",
   "metadata": {},
   "outputs": [
    {
     "name": "stdout",
     "output_type": "stream",
     "text": [
      "9\n"
     ]
    }
   ],
   "source": [
    "# Call the method to increase the age \n",
    "Ala.yearPasses()"
   ]
  },
  {
   "cell_type": "markdown",
   "id": "ffc7880e-0f16-4c45-8164-1efbc51448a7",
   "metadata": {},
   "source": [
    "# Exercise 5: Fractions of positive, negative and neutral numbers in an array\n",
    "\n",
    "Calculate the fractions of positive, negative and neutral numbers up to 6 significant places after the coma."
   ]
  },
  {
   "cell_type": "code",
   "execution_count": 128,
   "id": "4550845d-e0cf-4c72-a955-a3b71deb2dbb",
   "metadata": {},
   "outputs": [],
   "source": [
    "def plusMinus(arr):\n",
    "    size = len(arr)\n",
    "    p = 0\n",
    "    n = 0\n",
    "    z = 0\n",
    "    for i in range(len(arr)):\n",
    "        if arr[i] > 0:\n",
    "            p += 1\n",
    "        elif arr[i] < 0:\n",
    "            n += 1\n",
    "        else:\n",
    "            z += 1\n",
    "    print(round(p/size,6))\n",
    "    print(round(n/size,6))\n",
    "    print(round(z/size,6))"
   ]
  },
  {
   "cell_type": "code",
   "execution_count": 130,
   "id": "c1e5b3ba-16e8-4556-a460-ebdfc4e66afd",
   "metadata": {},
   "outputs": [],
   "source": [
    "A = [-8,4,-1]"
   ]
  },
  {
   "cell_type": "code",
   "execution_count": 132,
   "id": "f5e925a8-0b78-4f8f-8d82-b61e73a1ccc3",
   "metadata": {},
   "outputs": [
    {
     "name": "stdout",
     "output_type": "stream",
     "text": [
      "0.333333\n",
      "0.666667\n",
      "0.0\n"
     ]
    }
   ],
   "source": [
    "plusMinus(A)"
   ]
  },
  {
   "cell_type": "markdown",
   "id": "9fa16af9-ae8d-4631-9dc8-f223a1e1450b",
   "metadata": {},
   "source": [
    "# Exercise 6: Build a staircase\n",
    "\n",
    "Build a staircase made of spaces and #."
   ]
  },
  {
   "cell_type": "code",
   "execution_count": 136,
   "id": "7ad211b9-2896-495a-be09-11129ac06124",
   "metadata": {},
   "outputs": [],
   "source": [
    "def staircase(n):\n",
    "    # Write your code here\n",
    "    for i in range(1,n+1):\n",
    "        print(\" \"*(n-i) + \"#\"*i)"
   ]
  },
  {
   "cell_type": "code",
   "execution_count": 138,
   "id": "92217281-d850-4742-882c-384dfc4470bf",
   "metadata": {},
   "outputs": [
    {
     "name": "stdout",
     "output_type": "stream",
     "text": [
      "     #\n",
      "    ##\n",
      "   ###\n",
      "  ####\n",
      " #####\n",
      "######\n"
     ]
    }
   ],
   "source": [
    "n = 6\n",
    "staircase(n)"
   ]
  },
  {
   "cell_type": "markdown",
   "id": "e815774a-17c9-4593-88d6-5f04e48d3426",
   "metadata": {},
   "source": [
    "# Exercise 7: Reordering the letters of strings\n",
    "\n",
    "Having given a string (a word), print its even-indexed and odd-indexed letters separated by a string."
   ]
  },
  {
   "cell_type": "code",
   "execution_count": 492,
   "id": "07093c58-0007-4dae-95a2-1887c30cd070",
   "metadata": {},
   "outputs": [],
   "source": [
    "s = \"model\"\n",
    "l = list(s)"
   ]
  },
  {
   "cell_type": "code",
   "execution_count": 203,
   "id": "c9050664-2f7c-44c4-85c6-f29fc1a74072",
   "metadata": {},
   "outputs": [
    {
     "name": "stdout",
     "output_type": "stream",
     "text": [
      "mdl oe\n",
      "ary ra\n",
      "vrin eso\n"
     ]
    }
   ],
   "source": [
    "S = [\"model\", \"array\", \"version\"]\n",
    "\n",
    "for j in range(len(S)):\n",
    "    s = S[j]\n",
    "    l = list(s)\n",
    "\n",
    "    p = []\n",
    "    k = []\n",
    "    for i in range(len(l)):\n",
    "        if i%2 == 0:\n",
    "            p.append(l[i])\n",
    "        else:\n",
    "            k.append(l[i])\n",
    "    delimeter = \"\"\n",
    "    evenList = delimeter.join(p)\n",
    "    oddList = delimeter.join(k)\n",
    "    # join() method combines elements of arrays, which are individual characters, into one string; delimeter can be space or comma too\n",
    "    \n",
    "    print(evenList + \" \" + oddList)     "
   ]
  },
  {
   "cell_type": "code",
   "execution_count": 198,
   "id": "752da826-6e57-4c49-aa1b-33a966d3be26",
   "metadata": {},
   "outputs": [],
   "source": [
    "# Here is the version, when we take the strings from standard input (stdin) and need to ignore the first line \n",
    "# (because S is actually not an array of strings but a set of lines, with the first line being, for example, the integer):\n",
    "\n",
    "import sys\n",
    "\n",
    "for num, S in enumerate(sys.stdin):\n",
    "    if num != 0:\n",
    "        \n",
    "        s = S.rstrip()\n",
    "        # rstrip() method removes white spaces\n",
    "        \n",
    "        l = list(s)\n",
    "        p = []\n",
    "        k = []\n",
    "        for i in range(len(l)):\n",
    "            if i%2 == 0:\n",
    "                p.append(l[i])\n",
    "            else:\n",
    "                k.append(l[i])\n",
    "        delimeter = \"\"\n",
    "        evenList = delimeter.join(p)\n",
    "        oddList = delimeter.join(k)\n",
    "        print(evenList + \" \" + oddList) \n",
    "    else:\n",
    "        pass"
   ]
  },
  {
   "cell_type": "markdown",
   "id": "6ae95cce-2059-48ee-95d9-eda9fcf88cbf",
   "metadata": {},
   "source": [
    "# Exercise 8: Minimum and maximum sum\n",
    "\n",
    "Calculate the minimum and maximum sum of elements of a given array."
   ]
  },
  {
   "cell_type": "code",
   "execution_count": 342,
   "id": "c541f8e8-0b36-4969-bb53-6f35a79a2ec3",
   "metadata": {},
   "outputs": [],
   "source": [
    "A = [2,4,6,3,1]"
   ]
  },
  {
   "cell_type": "code",
   "execution_count": 344,
   "id": "3b7e7f0b-5a02-4d31-bbdd-3a552306c138",
   "metadata": {},
   "outputs": [],
   "source": [
    "def miniMaxSum(arr):\n",
    "    \n",
    "    arr.sort()\n",
    "    \n",
    "    a = arr.pop(-1)\n",
    "    minSum = 0\n",
    "    for i in range(len(arr)):\n",
    "        minSum += arr[i]\n",
    "    arr.append(a)\n",
    "    \n",
    "    b = arr.pop(0)\n",
    "    maxSum = 0\n",
    "    for i in range(len(arr)):\n",
    "        maxSum += arr[i]\n",
    "    arr.append(b)\n",
    "    \n",
    "    print(minSum, maxSum)"
   ]
  },
  {
   "cell_type": "code",
   "execution_count": 346,
   "id": "a3624156-df95-42ce-812a-ae4d32308202",
   "metadata": {},
   "outputs": [
    {
     "name": "stdout",
     "output_type": "stream",
     "text": [
      "10 15\n"
     ]
    }
   ],
   "source": [
    "miniMaxSum(A)"
   ]
  },
  {
   "cell_type": "markdown",
   "id": "769e6259-875f-48ac-a250-161f997a3a9f",
   "metadata": {},
   "source": [
    "# Exercise 9: Print elements of a list in reverse order in one line\n",
    "\n",
    "Given an array $A$, print its elements in reverse order and in one line so that the elements are separated by a space."
   ]
  },
  {
   "cell_type": "code",
   "execution_count": 383,
   "id": "2cd8e221-a474-4d1f-a1a4-da9cdced2348",
   "metadata": {},
   "outputs": [
    {
     "name": "stdout",
     "output_type": "stream",
     "text": [
      "5 3 4 2 "
     ]
    }
   ],
   "source": [
    "f = [2,4,3,5]\n",
    "f.reverse()\n",
    "f\n",
    "\n",
    "for i in range(len(f)):\n",
    "    print(f[i], end = \" \")"
   ]
  },
  {
   "cell_type": "code",
   "execution_count": 405,
   "id": "e419dd00-c3a2-4917-89e0-01817c689351",
   "metadata": {},
   "outputs": [],
   "source": [
    "can = [4,3,2,4,7,3,7,7]"
   ]
  },
  {
   "cell_type": "code",
   "execution_count": 411,
   "id": "b373569c-d17d-4daa-af61-250cf1deed56",
   "metadata": {},
   "outputs": [],
   "source": [
    "def birthdayCakeCandles(candles):\n",
    "    candles.sort(reverse=True)\n",
    "    it = 1\n",
    "    for i in range(1,len(candles)):\n",
    "        if candles[i] == candles[0]:\n",
    "            it += 1\n",
    "        else:\n",
    "            pass\n",
    "    return it"
   ]
  },
  {
   "cell_type": "code",
   "execution_count": 413,
   "id": "0077748a-c88e-4f55-b431-b0291fad219b",
   "metadata": {},
   "outputs": [
    {
     "data": {
      "text/plain": [
       "3"
      ]
     },
     "execution_count": 413,
     "metadata": {},
     "output_type": "execute_result"
    }
   ],
   "source": [
    "birthdayCakeCandles(can)"
   ]
  },
  {
   "cell_type": "markdown",
   "id": "b2e34d56-0540-4166-91bc-84044506b711",
   "metadata": {},
   "source": [
    "# Exercise 10: Map names and phone numbers from lines to dictionaries\n",
    "\n",
    "We have a file with the structure: 0th line defines a number (of names and their phone numbers), the next $n$ lines contain these names and corresponding phone numbers, and the next (n+1, 2n) lines contain only names. Write a code that takes all these values, creates a phone book (a dictionary of names and phones) and then checks if the last names are in the phone book (if yes, then print the number, if not, print \"Not found\").\n",
    "\n",
    "Example:\n",
    "\n",
    "2\n",
    "\n",
    "ewa 4567\n",
    "\n",
    "paula 4532\n",
    "\n",
    "ula \n",
    "\n",
    "ewa\n",
    "\n",
    "This is a challenge from HackerRank, and it takes values from standard input.\n"
   ]
  },
  {
   "cell_type": "code",
   "execution_count": 486,
   "id": "f36d9b28-90c2-4e97-bb3e-4f0480dfe3dd",
   "metadata": {},
   "outputs": [],
   "source": [
    "import sys\n",
    "\n",
    "dict = {}\n",
    "for num, line in enumerate(sys.stdin):\n",
    "    if num == 0:\n",
    "        n = int(line)\n",
    "    elif num in range(1,n+1):\n",
    "        A = line.split()\n",
    "        dict[A[0]] = A[1]\n",
    "    else:\n",
    "        name = line.rstrip()\n",
    "        if name in dict.keys():\n",
    "            print(name + '=' + dict[name])\n",
    "        else:\n",
    "            print(\"Not found\")"
   ]
  },
  {
   "cell_type": "code",
   "execution_count": null,
   "id": "060dfd51-dc3f-4198-ab11-2158d166b8ed",
   "metadata": {},
   "outputs": [],
   "source": []
  }
 ],
 "metadata": {
  "kernelspec": {
   "display_name": "Python 3 (ipykernel)",
   "language": "python",
   "name": "python3"
  },
  "language_info": {
   "codemirror_mode": {
    "name": "ipython",
    "version": 3
   },
   "file_extension": ".py",
   "mimetype": "text/x-python",
   "name": "python",
   "nbconvert_exporter": "python",
   "pygments_lexer": "ipython3",
   "version": "3.12.7"
  }
 },
 "nbformat": 4,
 "nbformat_minor": 5
}
